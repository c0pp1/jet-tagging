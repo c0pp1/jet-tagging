{
 "cells": [
  {
   "cell_type": "code",
   "execution_count": 16,
   "metadata": {},
   "outputs": [],
   "source": [
    "import dgl\n",
    "import numpy as np\n",
    "import torch\n",
    "import networkx as nx\n",
    "import os\n",
    "import matplotlib.pyplot as plt\n",
    "os.environ['DGLBACKEND'] = 'pytorch'\n",
    "\n",
    "from torch import nn\n",
    "from torch.optim.lr_scheduler import ReduceLROnPlateau\n",
    "from dgl.nn import NNConv, EdgeConv\n",
    "from dgl.nn.pytorch import Sequential as dglSequential\n",
    "from dgl.dataloading import GraphDataLoader\n",
    "from torch.utils.data import Dataset\n",
    "from tqdm.notebook import tqdm\n",
    "\n",
    "from pytorch_model_summary import summary"
   ]
  },
  {
   "attachments": {},
   "cell_type": "markdown",
   "metadata": {},
   "source": [
    "## Dataloader"
   ]
  },
  {
   "cell_type": "code",
   "execution_count": 2,
   "metadata": {},
   "outputs": [],
   "source": [
    "data_path = '../data/graphdataset/'"
   ]
  },
  {
   "cell_type": "code",
   "execution_count": 3,
   "metadata": {},
   "outputs": [],
   "source": [
    "class GraphDataset(Dataset):\n",
    "    def __init__(self, data_path, n_files=None, lbl_to_load=None, transform=None):\n",
    "\n",
    "        self.fnames    = [fname for fname in os.listdir(data_path) if fname.endswith('.dgl')]\n",
    "        self.data_path = data_path\n",
    "\n",
    "        if n_files:\n",
    "            self.fnames = self.fnames[n_files]\n",
    "\n",
    "        self.transform = transform     \n",
    "        self.lbl_2_load = lbl_to_load\n",
    "\n",
    "        self.load_graphs()\n",
    "\n",
    "\n",
    "    def load_graphs(self):\n",
    "        self.graphs = []\n",
    "\n",
    "        for fname in tqdm(self.fnames, 'Reading files'):\n",
    "            graphs, _ = dgl.load_graphs(os.path.join(self.data_path, fname))\n",
    "            if self.lbl_2_load:\n",
    "                self.graphs.extend([graph for graph in graphs if graph.ndata['labels'][0].nonzero().squeeze() in self.lbl_2_load])\n",
    "            else:\n",
    "                self.graphs.extend(graphs)\n",
    "\n",
    "\n",
    "    def __len__(self):\n",
    "\n",
    "        return len(self.graphs)\n",
    "    \n",
    "\n",
    "    def __getitem__(self, idx):\n",
    "\n",
    "        x = self.graphs[idx]\n",
    "        \n",
    "        if self.transform:\n",
    "            x = self.transform(x)\n",
    "        \n",
    "        return x"
   ]
  },
  {
   "cell_type": "code",
   "execution_count": 4,
   "metadata": {},
   "outputs": [
    {
     "data": {
      "application/vnd.jupyter.widget-view+json": {
       "model_id": "f7eae965943c4970b751beed2ec76e93",
       "version_major": 2,
       "version_minor": 0
      },
      "text/plain": [
       "Reading files:   0%|          | 0/1 [00:00<?, ?it/s]"
      ]
     },
     "metadata": {},
     "output_type": "display_data"
    },
    {
     "data": {
      "application/vnd.jupyter.widget-view+json": {
       "model_id": "c511e29e7d654e8097e24564153cc1d8",
       "version_major": 2,
       "version_minor": 0
      },
      "text/plain": [
       "Reading files:   0%|          | 0/1 [00:00<?, ?it/s]"
      ]
     },
     "metadata": {},
     "output_type": "display_data"
    }
   ],
   "source": [
    "train_files = slice(1)\n",
    "val_files   = slice(1, )\n",
    "\n",
    "labels_2_load = [0, 2, 4]\n",
    "\n",
    "train_dataset = GraphDataset(data_path, train_files, labels_2_load)\n",
    "val_dataset   = GraphDataset(data_path, val_files, labels_2_load)"
   ]
  },
  {
   "cell_type": "code",
   "execution_count": 7,
   "metadata": {},
   "outputs": [
    {
     "name": "stdout",
     "output_type": "stream",
     "text": [
      "757\n"
     ]
    }
   ],
   "source": [
    "train_dataloader = GraphDataLoader(train_dataset, batch_size=16, shuffle=True)\n",
    "val_dataloader   = GraphDataLoader(val_dataset, batch_size=16, shuffle=True)\n",
    "for batch in train_dataloader:\n",
    "    break\n",
    "print(len(train_dataloader))"
   ]
  },
  {
   "attachments": {},
   "cell_type": "markdown",
   "metadata": {},
   "source": [
    "## Simulated Graph\n",
    "50 particelle, 7 features per particle, each node is connected to all the others so n**2 edges, each edge has 3 different features"
   ]
  },
  {
   "cell_type": "code",
   "execution_count": null,
   "metadata": {},
   "outputs": [],
   "source": [
    "n = 50 \n",
    "src = []; dst = []\n",
    "for i in range(n):\n",
    "    for j in range(n):\n",
    "        src.append(i)\n",
    "        dst.append(j)\n",
    "\n",
    "g = dgl.graph((src, dst))\n",
    "\n",
    "nodes = torch.randn((n, 7))\n",
    "edges = torch.randn((n**2, 3))\n",
    "\n",
    "g.ndata['feat'] = nodes\n",
    "g.edata['edge_feat'] = edges\n"
   ]
  },
  {
   "cell_type": "code",
   "execution_count": null,
   "metadata": {},
   "outputs": [],
   "source": [
    "def MLP(efeat, ch=[256,128,64,32]):\n",
    "\n",
    "    mlp = nn.Sequential(\n",
    "        nn.Linear(3, ch[0]),\n",
    "        nn.Dropout(0.2),\n",
    "        nn.ReLU(),\n",
    "        \n",
    "        nn.Linear(ch[0],ch[1]),\n",
    "        nn.Dropout(0.2),\n",
    "        nn.ReLU(),\n",
    "        \n",
    "        nn.Linear(ch[1],ch[2]),\n",
    "        nn.Dropout(0.2),\n",
    "        nn.ReLU(),\n",
    "\n",
    "        nn.Linear(ch[2], ch[3]),\n",
    "        nn.Dropout(0.2),\n",
    "        nn.ReLU(),\n",
    "\n",
    "        nn.Linear(ch[3], 7*128),\n",
    "        nn.Sigmoid()\n",
    "    )\n",
    "    \n",
    "    return mlp(efeat)"
   ]
  },
  {
   "cell_type": "code",
   "execution_count": null,
   "metadata": {},
   "outputs": [
    {
     "data": {
      "text/plain": [
       "torch.Size([50, 128])"
      ]
     },
     "execution_count": 74,
     "metadata": {},
     "output_type": "execute_result"
    }
   ],
   "source": [
    "conv = NNConv(7, 128, MLP)\n",
    "res = conv(g, nodes, edges)\n",
    "res.shape"
   ]
  },
  {
   "attachments": {},
   "cell_type": "markdown",
   "metadata": {},
   "source": [
    "## Encoder"
   ]
  },
  {
   "cell_type": "code",
   "execution_count": 12,
   "metadata": {},
   "outputs": [],
   "source": [
    "class Encoder(nn.Module):\n",
    "    \n",
    "    def __init__(self, latent_space_dim, ch=[256,128,64,32]):\n",
    "        super().__init__()\n",
    "\n",
    "        self.mlp = nn.Sequential(\n",
    "            nn.Linear(3, ch[0]),\n",
    "            nn.Dropout(0.2),\n",
    "            nn.ReLU(),\n",
    "            \n",
    "            nn.Linear(ch[0],ch[1]),\n",
    "            nn.Dropout(0.2),\n",
    "            nn.ReLU(),\n",
    "            \n",
    "            nn.Linear(ch[1],ch[2]),\n",
    "            nn.Dropout(0.2),\n",
    "            nn.ReLU(),\n",
    "\n",
    "            nn.Linear(ch[2], ch[3]),\n",
    "            nn.Dropout(0.2),\n",
    "            nn.ReLU(),\n",
    "\n",
    "            nn.Linear(ch[3], 7*128),\n",
    "            nn.Sigmoid()\n",
    "            )\n",
    "        \n",
    "        self.conv = dglSequential(\n",
    "            NNConv(\n",
    "                in_feats  = 7,  # number of node features\n",
    "                out_feats = 128, # output number of node features\n",
    "                edge_func = self.mlp),\n",
    "            EdgeConv(128, 64, batch_norm=True),\n",
    "            EdgeConv(64, 32, batch_norm=True),\n",
    "            EdgeConv(32, latent_space_dim, batch_norm=True)\n",
    "        )\n",
    "\n",
    "    def forward(self, graph, n_feat=None):\n",
    "\n",
    "        x = self.conv(graph, n_feat if n_feat else graph.ndata['f'], graph.edata['d'])\n",
    "        return x\n",
    "    "
   ]
  },
  {
   "cell_type": "code",
   "execution_count": 9,
   "metadata": {},
   "outputs": [
    {
     "data": {
      "text/plain": [
       "torch.Size([1010, 4])"
      ]
     },
     "execution_count": 9,
     "metadata": {},
     "output_type": "execute_result"
    }
   ],
   "source": [
    "encoder = Encoder(4)\n",
    "encoded = encoder(batch)\n",
    "encoded.shape"
   ]
  },
  {
   "cell_type": "code",
   "execution_count": 11,
   "metadata": {},
   "outputs": [],
   "source": [
    "batch.ndata['l'] = encoded"
   ]
  },
  {
   "cell_type": "code",
   "execution_count": 40,
   "metadata": {},
   "outputs": [],
   "source": [
    "class NNConv_handy(nn.Module):\n",
    "\n",
    "    def __init__(self, in_feat, out_feat, ch=[256,128,64,32]):\n",
    "        super().__init__()\n",
    "\n",
    "        self.mlp = nn.Sequential(\n",
    "            *[self.block(cin, cout) for cin, cout in zip([3]+ch, ch)],\n",
    "            nn.Linear(ch[-1], in_feat*out_feat),\n",
    "            nn.Sigmoid()\n",
    "        )\n",
    "\n",
    "        self.nnconv = NNConv(in_feat, out_feat, edge_func=self.mlp)\n",
    "\n",
    "    def block(self, cin, cout):\n",
    "        return nn.Sequential(\n",
    "            nn.Linear(cin, cout),\n",
    "            nn.Dropout(0.2),\n",
    "            nn.BatchNorm1d(cout),\n",
    "            nn.ReLU())\n",
    "    \n",
    "    def forward(self, graph, nfeat):\n",
    "        return self.nnconv(graph, nfeat, graph.edata['d'])"
   ]
  },
  {
   "cell_type": "code",
   "execution_count": 27,
   "metadata": {},
   "outputs": [],
   "source": [
    "def block(self, cin, cout):\n",
    "    return nn.Sequential(\n",
    "            nn.Linear(cin, cout),\n",
    "            nn.Dropout(0.2),\n",
    "            nn.BatchNorm1d(cout),\n",
    "            nn.ReLU())"
   ]
  },
  {
   "cell_type": "code",
   "execution_count": null,
   "metadata": {},
   "outputs": [],
   "source": [
    "block()"
   ]
  },
  {
   "cell_type": "code",
   "execution_count": 31,
   "metadata": {},
   "outputs": [
    {
     "name": "stdout",
     "output_type": "stream",
     "text": [
      "7 256\n",
      "256 128\n",
      "128 64\n",
      "64 32\n"
     ]
    }
   ],
   "source": [
    "ch = [256, 128, 64, 32]\n",
    "in_feat = 7\n",
    "\n",
    "for cin, cout in zip([in_feat]+ch, ch):\n",
    "    print(cin, cout)"
   ]
  },
  {
   "cell_type": "code",
   "execution_count": 41,
   "metadata": {},
   "outputs": [
    {
     "data": {
      "text/plain": [
       "Sequential(\n",
       "  (0): Sequential(\n",
       "    (0): Linear(in_features=3, out_features=32, bias=True)\n",
       "    (1): Dropout(p=0.2, inplace=False)\n",
       "    (2): BatchNorm1d(32, eps=1e-05, momentum=0.1, affine=True, track_running_stats=True)\n",
       "    (3): ReLU()\n",
       "  )\n",
       "  (1): Sequential(\n",
       "    (0): Linear(in_features=32, out_features=64, bias=True)\n",
       "    (1): Dropout(p=0.2, inplace=False)\n",
       "    (2): BatchNorm1d(64, eps=1e-05, momentum=0.1, affine=True, track_running_stats=True)\n",
       "    (3): ReLU()\n",
       "  )\n",
       "  (2): Sequential(\n",
       "    (0): Linear(in_features=64, out_features=128, bias=True)\n",
       "    (1): Dropout(p=0.2, inplace=False)\n",
       "    (2): BatchNorm1d(128, eps=1e-05, momentum=0.1, affine=True, track_running_stats=True)\n",
       "    (3): ReLU()\n",
       "  )\n",
       "  (3): Sequential(\n",
       "    (0): Linear(in_features=128, out_features=256, bias=True)\n",
       "    (1): Dropout(p=0.2, inplace=False)\n",
       "    (2): BatchNorm1d(256, eps=1e-05, momentum=0.1, affine=True, track_running_stats=True)\n",
       "    (3): ReLU()\n",
       "  )\n",
       "  (4): Linear(in_features=256, out_features=896, bias=True)\n",
       "  (5): Sigmoid()\n",
       ")"
      ]
     },
     "execution_count": 41,
     "metadata": {},
     "output_type": "execute_result"
    }
   ],
   "source": [
    "nnc = NNConv_handy(7, 128, [32, 64, 128, 256])\n",
    "nnc.mlp"
   ]
  },
  {
   "cell_type": "code",
   "execution_count": 42,
   "metadata": {},
   "outputs": [],
   "source": [
    "result = nnc(batch, batch.ndata['f'])"
   ]
  },
  {
   "attachments": {},
   "cell_type": "markdown",
   "metadata": {},
   "source": [
    "## Decoder"
   ]
  },
  {
   "cell_type": "code",
   "execution_count": 11,
   "metadata": {},
   "outputs": [],
   "source": [
    "class Decoder(nn.Module):\n",
    "    \n",
    "    def __init__(self, latent_space_dim, n_feat=7):\n",
    "        super().__init__()\n",
    "\n",
    "        self.shared_path = dglSequential(\n",
    "            EdgeConv(latent_space_dim, 32, batch_norm=True),\n",
    "            EdgeConv(32, 64, batch_norm=True),\n",
    "            EdgeConv(64, 128, batch_norm=True)\n",
    "        )\n",
    "        \n",
    "        self.node_reconstruct = EdgeConv(128, n_feat)    # output are the reconstructed node features\n",
    "\n",
    "        self.edge_reconstruct1 = dglSequential(\n",
    "            EdgeConv(128, 32, batch_norm=True),\n",
    "            EdgeConv(32,16, batch_norm=True),\n",
    "            EdgeConv(16,8, batch_norm=True)\n",
    "        )\n",
    "\n",
    "        self.edge_reconstruct2 = dglSequential(\n",
    "            EdgeConv(128, 32, batch_norm=True),\n",
    "            EdgeConv(32,16, batch_norm=True),\n",
    "            EdgeConv(16,8, batch_norm=True)\n",
    "        )\n",
    "\n",
    "        self.edge_reconstruct3 = dglSequential(\n",
    "            EdgeConv(128, 32, batch_norm=True),\n",
    "            EdgeConv(32,16, batch_norm=True),\n",
    "            EdgeConv(16,8, batch_norm=True)\n",
    "        )\n",
    "\n",
    "    def forward(self, graph, n_feat=None):\n",
    "        \n",
    "        if n_feat is None:\n",
    "            n_feat = graph.ndata['l']\n",
    "\n",
    "        # shared path\n",
    "        shared = self.shared_path(graph, n_feat)\n",
    "\n",
    "        # node reconstruction\n",
    "        n = self.node_reconstruct(graph, shared)\n",
    "        \n",
    "        # edges reconstruction\n",
    "        e1 = self.edge_reconstruct1(graph, shared)\n",
    "        e2 = self.edge_reconstruct2(graph, shared)\n",
    "        e3 = self.edge_reconstruct3(graph, shared)\n",
    "\n",
    "        # inner product o matmul?\n",
    "        e1 = torch.inner(e1, e1)  #their elements are A_{ij}\n",
    "        e2 = torch.inner(e2, e2) \n",
    "        e3 = torch.inner(e3, e3)\n",
    "\n",
    "        return n, torch.stack([e1, e2, e3], 2)\n",
    "    "
   ]
  },
  {
   "cell_type": "code",
   "execution_count": 12,
   "metadata": {},
   "outputs": [],
   "source": [
    "decoder = Decoder(4)\n",
    "decoded = decoder(batch)"
   ]
  },
  {
   "cell_type": "code",
   "execution_count": 14,
   "metadata": {},
   "outputs": [],
   "source": [
    "autoencoder = dglSequential(encoder, decoder)\n",
    "n, e = autoencoder(batch)"
   ]
  },
  {
   "cell_type": "code",
   "execution_count": 21,
   "metadata": {},
   "outputs": [],
   "source": [
    "def count_parameters(model):\n",
    "    return sum(p.numel() for p in model.parameters() if p.requires_grad)"
   ]
  },
  {
   "cell_type": "code",
   "execution_count": 22,
   "metadata": {},
   "outputs": [
    {
     "data": {
      "text/plain": [
       "147614"
      ]
     },
     "execution_count": 22,
     "metadata": {},
     "output_type": "execute_result"
    }
   ],
   "source": [
    "count_parameters(autoencoder)"
   ]
  },
  {
   "attachments": {},
   "cell_type": "markdown",
   "metadata": {},
   "source": [
    "## Training"
   ]
  },
  {
   "cell_type": "code",
   "execution_count": 13,
   "metadata": {},
   "outputs": [],
   "source": [
    "### Initialize the two networks\n",
    "encoded_space_dim = 6\n",
    "encoder = Encoder(latent_space_dim=encoded_space_dim)\n",
    "decoder = Decoder(latent_space_dim=encoded_space_dim)\n",
    "\n",
    "autoencoder = dglSequential(encoder, decoder)"
   ]
  },
  {
   "attachments": {},
   "cell_type": "markdown",
   "metadata": {},
   "source": [
    "### Learning Rate and Loss customize "
   ]
  },
  {
   "cell_type": "code",
   "execution_count": 14,
   "metadata": {},
   "outputs": [],
   "source": [
    "def custom_loss(output, target):\n",
    "    \"\"\" pred and real are two tuples which contains:\n",
    "    real: real nodes and edges\n",
    "    real: real nodes and edges\"\"\"\n",
    "\n",
    "    # regularization parameters    \n",
    "    l_node = 0.3\n",
    "    l_edge = 1\n",
    "    \n",
    "    loss_fn = torch.nn.MSELoss()\n",
    "    node_loss = torch.sqrt(loss_fn(output[0], target[0])) \n",
    "    e0_loss = torch.sqrt(loss_fn(output[1], target[1])) \n",
    "    e1_loss = torch.sqrt(loss_fn(output[2], target[2]))\n",
    "    e2_loss = torch.sqrt(loss_fn(output[3], target[3]))  \n",
    "\n",
    "    return l_node * node_loss + l_edge * (e0_loss+e1_loss+e2_loss)\n",
    "\n",
    "\n",
    "def nodes_loss(output, target):\n",
    "\n",
    "    loss_fn = torch.nn.MSELoss()\n",
    "    return torch.sqrt(loss_fn(output, target))   \n",
    "\n",
    "def edges_loss(output, target):\n",
    "    #dim = int(np.sqrt(target.shape[0]))\n",
    "    loss_fn = torch.nn.MSELoss(reduction='none')\n",
    "    edge_loss = torch.sum(torch.sqrt(torch.mean(loss_fn(output, target), dim=[0, 1])))\n",
    "\n",
    "    return edge_loss"
   ]
  },
  {
   "cell_type": "code",
   "execution_count": 36,
   "metadata": {},
   "outputs": [
    {
     "name": "stdout",
     "output_type": "stream",
     "text": [
      "Selected device: cuda\n"
     ]
    },
    {
     "data": {
      "text/plain": [
       "Sequential(\n",
       "  (0): Encoder(\n",
       "    (mlp): Sequential(\n",
       "      (0): Linear(in_features=3, out_features=256, bias=True)\n",
       "      (1): Dropout(p=0.2, inplace=False)\n",
       "      (2): ReLU()\n",
       "      (3): Linear(in_features=256, out_features=128, bias=True)\n",
       "      (4): Dropout(p=0.2, inplace=False)\n",
       "      (5): ReLU()\n",
       "      (6): Linear(in_features=128, out_features=64, bias=True)\n",
       "      (7): Dropout(p=0.2, inplace=False)\n",
       "      (8): ReLU()\n",
       "      (9): Linear(in_features=64, out_features=32, bias=True)\n",
       "      (10): Dropout(p=0.2, inplace=False)\n",
       "      (11): ReLU()\n",
       "      (12): Linear(in_features=32, out_features=896, bias=True)\n",
       "      (13): Sigmoid()\n",
       "    )\n",
       "    (conv): Sequential(\n",
       "      (0): NNConv(\n",
       "        (edge_func): Sequential(\n",
       "          (0): Linear(in_features=3, out_features=256, bias=True)\n",
       "          (1): Dropout(p=0.2, inplace=False)\n",
       "          (2): ReLU()\n",
       "          (3): Linear(in_features=256, out_features=128, bias=True)\n",
       "          (4): Dropout(p=0.2, inplace=False)\n",
       "          (5): ReLU()\n",
       "          (6): Linear(in_features=128, out_features=64, bias=True)\n",
       "          (7): Dropout(p=0.2, inplace=False)\n",
       "          (8): ReLU()\n",
       "          (9): Linear(in_features=64, out_features=32, bias=True)\n",
       "          (10): Dropout(p=0.2, inplace=False)\n",
       "          (11): ReLU()\n",
       "          (12): Linear(in_features=32, out_features=896, bias=True)\n",
       "          (13): Sigmoid()\n",
       "        )\n",
       "      )\n",
       "      (1): EdgeConv(\n",
       "        (theta): Linear(in_features=128, out_features=64, bias=True)\n",
       "        (phi): Linear(in_features=128, out_features=64, bias=True)\n",
       "        (bn): BatchNorm1d(64, eps=1e-05, momentum=0.1, affine=True, track_running_stats=True)\n",
       "      )\n",
       "      (2): EdgeConv(\n",
       "        (theta): Linear(in_features=64, out_features=32, bias=True)\n",
       "        (phi): Linear(in_features=64, out_features=32, bias=True)\n",
       "        (bn): BatchNorm1d(32, eps=1e-05, momentum=0.1, affine=True, track_running_stats=True)\n",
       "      )\n",
       "      (3): EdgeConv(\n",
       "        (theta): Linear(in_features=32, out_features=6, bias=True)\n",
       "        (phi): Linear(in_features=32, out_features=6, bias=True)\n",
       "        (bn): BatchNorm1d(6, eps=1e-05, momentum=0.1, affine=True, track_running_stats=True)\n",
       "      )\n",
       "    )\n",
       "  )\n",
       "  (1): Decoder(\n",
       "    (shared_path): Sequential(\n",
       "      (0): EdgeConv(\n",
       "        (theta): Linear(in_features=6, out_features=32, bias=True)\n",
       "        (phi): Linear(in_features=6, out_features=32, bias=True)\n",
       "        (bn): BatchNorm1d(32, eps=1e-05, momentum=0.1, affine=True, track_running_stats=True)\n",
       "      )\n",
       "      (1): EdgeConv(\n",
       "        (theta): Linear(in_features=32, out_features=64, bias=True)\n",
       "        (phi): Linear(in_features=32, out_features=64, bias=True)\n",
       "        (bn): BatchNorm1d(64, eps=1e-05, momentum=0.1, affine=True, track_running_stats=True)\n",
       "      )\n",
       "      (2): EdgeConv(\n",
       "        (theta): Linear(in_features=64, out_features=128, bias=True)\n",
       "        (phi): Linear(in_features=64, out_features=128, bias=True)\n",
       "        (bn): BatchNorm1d(128, eps=1e-05, momentum=0.1, affine=True, track_running_stats=True)\n",
       "      )\n",
       "    )\n",
       "    (node_reconstruct): EdgeConv(\n",
       "      (theta): Linear(in_features=128, out_features=7, bias=True)\n",
       "      (phi): Linear(in_features=128, out_features=7, bias=True)\n",
       "    )\n",
       "    (edge_reconstruct1): Sequential(\n",
       "      (0): EdgeConv(\n",
       "        (theta): Linear(in_features=128, out_features=32, bias=True)\n",
       "        (phi): Linear(in_features=128, out_features=32, bias=True)\n",
       "        (bn): BatchNorm1d(32, eps=1e-05, momentum=0.1, affine=True, track_running_stats=True)\n",
       "      )\n",
       "      (1): EdgeConv(\n",
       "        (theta): Linear(in_features=32, out_features=16, bias=True)\n",
       "        (phi): Linear(in_features=32, out_features=16, bias=True)\n",
       "        (bn): BatchNorm1d(16, eps=1e-05, momentum=0.1, affine=True, track_running_stats=True)\n",
       "      )\n",
       "      (2): EdgeConv(\n",
       "        (theta): Linear(in_features=16, out_features=8, bias=True)\n",
       "        (phi): Linear(in_features=16, out_features=8, bias=True)\n",
       "        (bn): BatchNorm1d(8, eps=1e-05, momentum=0.1, affine=True, track_running_stats=True)\n",
       "      )\n",
       "    )\n",
       "    (edge_reconstruct2): Sequential(\n",
       "      (0): EdgeConv(\n",
       "        (theta): Linear(in_features=128, out_features=32, bias=True)\n",
       "        (phi): Linear(in_features=128, out_features=32, bias=True)\n",
       "        (bn): BatchNorm1d(32, eps=1e-05, momentum=0.1, affine=True, track_running_stats=True)\n",
       "      )\n",
       "      (1): EdgeConv(\n",
       "        (theta): Linear(in_features=32, out_features=16, bias=True)\n",
       "        (phi): Linear(in_features=32, out_features=16, bias=True)\n",
       "        (bn): BatchNorm1d(16, eps=1e-05, momentum=0.1, affine=True, track_running_stats=True)\n",
       "      )\n",
       "      (2): EdgeConv(\n",
       "        (theta): Linear(in_features=16, out_features=8, bias=True)\n",
       "        (phi): Linear(in_features=16, out_features=8, bias=True)\n",
       "        (bn): BatchNorm1d(8, eps=1e-05, momentum=0.1, affine=True, track_running_stats=True)\n",
       "      )\n",
       "    )\n",
       "    (edge_reconstruct3): Sequential(\n",
       "      (0): EdgeConv(\n",
       "        (theta): Linear(in_features=128, out_features=32, bias=True)\n",
       "        (phi): Linear(in_features=128, out_features=32, bias=True)\n",
       "        (bn): BatchNorm1d(32, eps=1e-05, momentum=0.1, affine=True, track_running_stats=True)\n",
       "      )\n",
       "      (1): EdgeConv(\n",
       "        (theta): Linear(in_features=32, out_features=16, bias=True)\n",
       "        (phi): Linear(in_features=32, out_features=16, bias=True)\n",
       "        (bn): BatchNorm1d(16, eps=1e-05, momentum=0.1, affine=True, track_running_stats=True)\n",
       "      )\n",
       "      (2): EdgeConv(\n",
       "        (theta): Linear(in_features=16, out_features=8, bias=True)\n",
       "        (phi): Linear(in_features=16, out_features=8, bias=True)\n",
       "        (bn): BatchNorm1d(8, eps=1e-05, momentum=0.1, affine=True, track_running_stats=True)\n",
       "      )\n",
       "    )\n",
       "  )\n",
       ")"
      ]
     },
     "execution_count": 36,
     "metadata": {},
     "output_type": "execute_result"
    }
   ],
   "source": [
    "### Define an optimizer (both for the encoder and the decoder!)\n",
    "lr = 1e-3 # Learning rate\n",
    "loss_fn = custom_loss\n",
    "params_to_optimize = [\n",
    "    {'params': [param for param in encoder.parameters() if param.requires_grad]},\n",
    "    {'params': [param for param in decoder.parameters() if param.requires_grad]}\n",
    "]\n",
    "optimizer = torch.optim.Adam(params_to_optimize, lr=lr)\n",
    "\n",
    "# Check if the GPU is available\n",
    "device = torch.device(\"cuda\") if torch.cuda.is_available() else torch.device(\"cpu\")\n",
    "print(f'Selected device: {device}')\n",
    "\n",
    "\"\"\"\n",
    "usando questo bisogna fare scheduler.step(val_loss) alla fine di un epoca\n",
    "\"\"\"\n",
    "'''lr_scheduler = ReduceLROnPlateau(\n",
    "    optimizer,\n",
    "    mode = 'min',\n",
    "    factor=0.5,\n",
    "    patience=5,\n",
    "    cooldown=5,\n",
    "    min_lr=10e-8, # this should be the minimum value of the lr at which we stop the training\n",
    "    threshold=1e-2\n",
    "    )\n",
    "'''\n",
    "\n",
    "encoder.to(device)\n",
    "decoder.to(device)\n",
    "autoencoder.to(device)"
   ]
  },
  {
   "cell_type": "code",
   "execution_count": 39,
   "metadata": {},
   "outputs": [
    {
     "name": "stderr",
     "output_type": "stream",
     "text": [
      "/home/ubuntu/data/miniconda3/envs/torch/lib/python3.10/site-packages/torch/optim/lr_scheduler.py:1282: UserWarning: To get the last learning rate computed by the scheduler, please use `get_last_lr()`.\n",
      "  warnings.warn(\"To get the last learning rate computed by the scheduler, \"\n",
      "/home/ubuntu/data/miniconda3/envs/torch/lib/python3.10/site-packages/torch/optim/lr_scheduler.py:138: UserWarning: Detected call of `lr_scheduler.step()` before `optimizer.step()`. In PyTorch 1.1.0 and later, you should call them in the opposite order: `optimizer.step()` before `lr_scheduler.step()`.  Failure to do this will result in PyTorch skipping the first value of the learning rate schedule. See more details at https://pytorch.org/docs/stable/optim.html#how-to-adjust-learning-rate\n",
      "  warnings.warn(\"Detected call of `lr_scheduler.step()` before `optimizer.step()`. \"\n"
     ]
    },
    {
     "data": {
      "text/plain": [
       "[<matplotlib.lines.Line2D at 0x7faca33194e0>,\n",
       " <matplotlib.lines.Line2D at 0x7faca3319900>]"
      ]
     },
     "execution_count": 39,
     "metadata": {},
     "output_type": "execute_result"
    },
    {
     "data": {
      "image/png": "[encoded data removed]",
      "text/plain": [
       "<Figure size 640x480 with 1 Axes>"
      ]
     },
     "metadata": {},
     "output_type": "display_data"
    }
   ],
   "source": [
    "\n",
    "\n",
    "scheduler = torch.optim.lr_scheduler.CyclicLR(optimizer, 1e-5, 1e-1, 50, 100, mode='triangular2',cycle_momentum=False)\n",
    "x=np.arange(800)\n",
    "lrs = []\n",
    "for i in x:\n",
    "    lrs.append(scheduler.get_lr())\n",
    "    scheduler.step()\n",
    "plt.plot(x, lrs)\n"
   ]
  },
  {
   "cell_type": "code",
   "execution_count": 32,
   "metadata": {},
   "outputs": [
    {
     "name": "stderr",
     "output_type": "stream",
     "text": [
      "/home/ubuntu/data/miniconda3/envs/torch/lib/python3.10/site-packages/torch/optim/lr_scheduler.py:1282: UserWarning: To get the last learning rate computed by the scheduler, please use `get_last_lr()`.\n",
      "  warnings.warn(\"To get the last learning rate computed by the scheduler, \"\n"
     ]
    },
    {
     "data": {
      "text/plain": [
       "[1e-05, 1e-05]"
      ]
     },
     "execution_count": 32,
     "metadata": {},
     "output_type": "execute_result"
    }
   ],
   "source": [
    "scheduler.get_lr()"
   ]
  },
  {
   "attachments": {},
   "cell_type": "markdown",
   "metadata": {},
   "source": [
    "### training and validate function"
   ]
  },
  {
   "cell_type": "code",
   "execution_count": 113,
   "metadata": {},
   "outputs": [],
   "source": [
    "### Training function\n",
    "def train_epoch(encoder, decoder, device, dataloader, loss_fn, optimizer):\n",
    "    # Set train mode for both the encoder and the decoder\n",
    "    encoder.train()\n",
    "    decoder.train()\n",
    "\n",
    "    # abbiamo già definito l'optimizer nella cella precedente\n",
    "    \n",
    "    losses = []\n",
    "    pbar = tqdm(dataloader, 'Steps')\n",
    "    # Iterate the dataloader (we do not need the label values, this is unsupervised learning)\n",
    "    for batch in pbar: # with \"_\" we just ignore the labels (the second element of the dataloader tuple)\n",
    "        \n",
    "        batch = batch.to(device)\n",
    "        #encode\n",
    "        y_encoder_pred = encoder(batch)\n",
    "        #update graph node features with their latent space representation\n",
    "        batch.ndata['l'] = y_encoder_pred\n",
    "        #decode\n",
    "        y_decoder_pred = decoder(batch)\n",
    "\n",
    "        dim = int(np.sqrt(batch.edata['d'].shape[0]))\n",
    "        loss = loss_fn(y_decoder_pred, [batch.ndata['f']] + [batch.edata['d'][:,i].reshape((dim, dim)) for i in range(3)])\n",
    "\n",
    "        optimizer.zero_grad()\n",
    "        loss.backward()\n",
    "        optimizer.step()\n",
    "        \n",
    "        losses.append(loss.detach().cpu().numpy())\n",
    "        pbar.set_postfix_str(f'loss: {losses[-1]:.2f}')\n",
    "        \n",
    "    losses = np.mean(losses)\n",
    "    return losses"
   ]
  },
  {
   "cell_type": "code",
   "execution_count": 15,
   "metadata": {},
   "outputs": [],
   "source": [
    "### Training function\n",
    "def train_epoch2(autoencoder, device, dataloader, optimizer):\n",
    "    # Set train mode for both the encoder and the decoder\n",
    "\n",
    "    autoencoder.train()\n",
    "\n",
    "    # abbiamo già definito l'optimizer nella cella precedente\n",
    "    \n",
    "    losses = []\n",
    "    l_node = 0.3\n",
    "    l_edge = 1\n",
    "    pbar = tqdm(dataloader, 'Steps')\n",
    "    # Iterate the dataloader (we do not need the label values, this is unsupervised learning)\n",
    "    for batch in pbar: # with \"_\" we just ignore the labels (the second element of the dataloader tuple)\n",
    "        \n",
    "        batch = batch.to(device)\n",
    "\n",
    "        #decode\n",
    "        pred_node, pred_edge = autoencoder(batch)\n",
    "\n",
    "        node_loss = nodes_loss(pred_node, batch.ndata['f'])\n",
    "\n",
    "        # get target adj matrix\n",
    "        sparse_coalesce = batch.adj().coalesce()\n",
    "        indices = sparse_coalesce.indices().to(device)\n",
    "        size = sparse_coalesce.size() + (3,)\n",
    "        values = batch.edata['d']\n",
    "\n",
    "        target_adj = torch.sparse_coo_tensor(indices, values, size).to_dense()\n",
    "        edge_loss = edges_loss(pred_edge, target_adj)\n",
    "\n",
    "        del target_adj, indices\n",
    "        loss = l_node * node_loss + l_edge * edge_loss\n",
    "\n",
    "        optimizer.zero_grad()\n",
    "        loss.backward()\n",
    "        optimizer.step()\n",
    "        \n",
    "        losses.append(loss.detach().cpu().numpy())\n",
    "        pbar.set_postfix_str(f'loss: {np.mean(losses):.2f}')\n",
    "        \n",
    "    losses = np.mean(losses)\n",
    "    return losses"
   ]
  },
  {
   "cell_type": "code",
   "execution_count": 16,
   "metadata": {},
   "outputs": [],
   "source": [
    "### Training function\n",
    "def val_epoch2(autoencoder, device, dataloader):\n",
    "    # Set train mode for both the encoder and the decoder\n",
    "\n",
    "    autoencoder.eval()\n",
    "\n",
    "    # abbiamo già definito l'optimizer nella cella precedente\n",
    "    \n",
    "    losses = []\n",
    "    l_node = 0.3\n",
    "    l_edge = 1\n",
    "    pbar = tqdm(dataloader, 'Val Steps')\n",
    "    # Iterate the dataloader (we do not need the label values, this is unsupervised learning)\n",
    "    with torch.no_grad():\n",
    "        for batch in pbar: # with \"_\" we just ignore the labels (the second element of the dataloader tuple)\n",
    "            \n",
    "            batch = batch.to(device)\n",
    "\n",
    "            #decode\n",
    "            pred_node, pred_edge = autoencoder(batch)\n",
    "\n",
    "            node_loss = nodes_loss(pred_node, batch.ndata['f'])\n",
    "\n",
    "            # get target adj matrix\n",
    "            sparse_coalesce = batch.adj().coalesce()\n",
    "            indices = sparse_coalesce.indices().to(device)\n",
    "            size = sparse_coalesce.size() + (3,)\n",
    "            values = batch.edata['d']\n",
    "\n",
    "            target_adj = torch.sparse_coo_tensor(indices, values, size).to_dense()\n",
    "            edge_loss = edges_loss(pred_edge, target_adj)\n",
    "            del target_adj, indices\n",
    "            loss = l_node * node_loss + l_edge * edge_loss\n",
    "            \n",
    "            losses.append(loss.detach().cpu().numpy())\n",
    "            pbar.set_postfix_str(f'loss: {np.mean(losses):.2f}')\n",
    "            \n",
    "    losses = np.mean(losses)\n",
    "    return losses"
   ]
  },
  {
   "cell_type": "code",
   "execution_count": 118,
   "metadata": {},
   "outputs": [],
   "source": [
    "### Testing function\n",
    "def test_epoch(encoder, decoder, device, dataloader, loss_fn):\n",
    "    # Set evaluation mode for encoder and decoder\n",
    "    encoder.eval()\n",
    "    decoder.eval()\n",
    "\n",
    "    with torch.no_grad(): # No need to track the gradients\n",
    "        # Define the lists to store the outputs for each batch\n",
    "        conc_out = []\n",
    "        conc_label = []\n",
    "        for image_batch, _ in dataloader:\n",
    "            # Move tensor to the proper device\n",
    "            image_batch = image_batch.to(device)\n",
    "            # Encode data\n",
    "            encoded_data = encoder(image_batch)\n",
    "            # Decode data\n",
    "            decoded_data = decoder(encoded_data)\n",
    "            # Append the network output and the original image to the lists\n",
    "            conc_out.append(decoded_data.cpu())\n",
    "            conc_label.append(image_batch.cpu())\n",
    "        # Create a single tensor with all the values in the lists\n",
    "        conc_out = torch.cat(conc_out)\n",
    "        conc_label = torch.cat(conc_label) \n",
    "        # Evaluate global loss\n",
    "        val_loss = loss_fn(conc_out, conc_label)\n",
    "    return val_loss.data"
   ]
  },
  {
   "cell_type": "code",
   "execution_count": 18,
   "metadata": {},
   "outputs": [
    {
     "name": "stdout",
     "output_type": "stream",
     "text": [
      "EPOCH 1\n"
     ]
    },
    {
     "data": {
      "application/vnd.jupyter.widget-view+json": {
       "model_id": "cbbf163c85b145c38c80190e5e1d23ad",
       "version_major": 2,
       "version_minor": 0
      },
      "text/plain": [
       "Steps:   0%|          | 0/1893 [00:00<?, ?it/s]"
      ]
     },
     "metadata": {},
     "output_type": "display_data"
    },
    {
     "name": "stdout",
     "output_type": "stream",
     "text": [
      "TRAIN - EPOCH 1 - loss: 1.1725770235061646\n"
     ]
    },
    {
     "data": {
      "application/vnd.jupyter.widget-view+json": {
       "model_id": "d5aca61a7aaa4416862f3634d28692e8",
       "version_major": 2,
       "version_minor": 0
      },
      "text/plain": [
       "Val Steps:   0%|          | 0/568 [00:00<?, ?it/s]"
      ]
     },
     "metadata": {},
     "output_type": "display_data"
    },
    {
     "name": "stdout",
     "output_type": "stream",
     "text": [
      "VALIDATION - EPOCH 1 - loss: 0.6140276193618774\n",
      "\n",
      "EPOCH 2\n"
     ]
    },
    {
     "data": {
      "application/vnd.jupyter.widget-view+json": {
       "model_id": "c0e36ef2829945a7b9bafd49d2435aaa",
       "version_major": 2,
       "version_minor": 0
      },
      "text/plain": [
       "Steps:   0%|          | 0/1893 [00:00<?, ?it/s]"
      ]
     },
     "metadata": {},
     "output_type": "display_data"
    },
    {
     "name": "stdout",
     "output_type": "stream",
     "text": [
      "TRAIN - EPOCH 2 - loss: 0.6104620695114136\n"
     ]
    },
    {
     "data": {
      "application/vnd.jupyter.widget-view+json": {
       "model_id": "a62d1c8002374d428063e1abcf9162b8",
       "version_major": 2,
       "version_minor": 0
      },
      "text/plain": [
       "Val Steps:   0%|          | 0/568 [00:00<?, ?it/s]"
      ]
     },
     "metadata": {},
     "output_type": "display_data"
    },
    {
     "name": "stdout",
     "output_type": "stream",
     "text": [
      "VALIDATION - EPOCH 2 - loss: 0.6076756715774536\n",
      "\n",
      "EPOCH 3\n"
     ]
    },
    {
     "data": {
      "application/vnd.jupyter.widget-view+json": {
       "model_id": "f54f16bfdb06411389bd8605c829a09c",
       "version_major": 2,
       "version_minor": 0
      },
      "text/plain": [
       "Steps:   0%|          | 0/1893 [00:00<?, ?it/s]"
      ]
     },
     "metadata": {},
     "output_type": "display_data"
    },
    {
     "ename": "KeyboardInterrupt",
     "evalue": "",
     "output_type": "error",
     "traceback": [
      "\u001b[0;31m---------------------------------------------------------------------------\u001b[0m",
      "\u001b[0;31mKeyboardInterrupt\u001b[0m                         Traceback (most recent call last)",
      "Cell \u001b[0;32mIn[18], line 18\u001b[0m\n\u001b[1;32m      7\u001b[0m \u001b[39mprint\u001b[39m(\u001b[39m'\u001b[39m\u001b[39mEPOCH \u001b[39m\u001b[39m%d\u001b[39;00m\u001b[39m'\u001b[39m \u001b[39m%\u001b[39m (epoch \u001b[39m+\u001b[39m \u001b[39m1\u001b[39m))\n\u001b[1;32m      9\u001b[0m \u001b[39m'''train_loss = train_epoch(\u001b[39;00m\n\u001b[1;32m     10\u001b[0m \u001b[39m    encoder=encoder, \u001b[39;00m\n\u001b[1;32m     11\u001b[0m \u001b[39m    decoder=decoder, \u001b[39;00m\n\u001b[0;32m   (...)\u001b[0m\n\u001b[1;32m     15\u001b[0m \u001b[39m    optimizer=optimizer)\u001b[39;00m\n\u001b[1;32m     16\u001b[0m \u001b[39mprint(f'TRAIN - EPOCH {epoch+1} - loss: {train_loss}')'''\u001b[39;00m\n\u001b[0;32m---> 18\u001b[0m train_loss \u001b[39m=\u001b[39m train_epoch2(\n\u001b[1;32m     19\u001b[0m     autoencoder\u001b[39m=\u001b[39;49mautoencoder, \n\u001b[1;32m     20\u001b[0m     device\u001b[39m=\u001b[39;49mdevice, \n\u001b[1;32m     21\u001b[0m     dataloader\u001b[39m=\u001b[39;49mtrain_dataloader, \n\u001b[1;32m     22\u001b[0m     optimizer\u001b[39m=\u001b[39;49moptimizer)\n\u001b[1;32m     23\u001b[0m \u001b[39mprint\u001b[39m(\u001b[39mf\u001b[39m\u001b[39m'\u001b[39m\u001b[39mTRAIN - EPOCH \u001b[39m\u001b[39m{\u001b[39;00mepoch\u001b[39m+\u001b[39m\u001b[39m1\u001b[39m\u001b[39m}\u001b[39;00m\u001b[39m - loss: \u001b[39m\u001b[39m{\u001b[39;00mtrain_loss\u001b[39m}\u001b[39;00m\u001b[39m'\u001b[39m)\n\u001b[1;32m     25\u001b[0m train_losses\u001b[39m.\u001b[39mappend(train_loss)\n",
      "Cell \u001b[0;32mIn[15], line 37\u001b[0m, in \u001b[0;36mtrain_epoch2\u001b[0;34m(autoencoder, device, dataloader, optimizer)\u001b[0m\n\u001b[1;32m     35\u001b[0m optimizer\u001b[39m.\u001b[39mzero_grad()\n\u001b[1;32m     36\u001b[0m loss\u001b[39m.\u001b[39mbackward()\n\u001b[0;32m---> 37\u001b[0m optimizer\u001b[39m.\u001b[39;49mstep()\n\u001b[1;32m     39\u001b[0m losses\u001b[39m.\u001b[39mappend(loss\u001b[39m.\u001b[39mdetach()\u001b[39m.\u001b[39mcpu()\u001b[39m.\u001b[39mnumpy())\n\u001b[1;32m     40\u001b[0m pbar\u001b[39m.\u001b[39mset_postfix_str(\u001b[39mf\u001b[39m\u001b[39m'\u001b[39m\u001b[39mloss: \u001b[39m\u001b[39m{\u001b[39;00mnp\u001b[39m.\u001b[39mmean(losses)\u001b[39m:\u001b[39;00m\u001b[39m.2f\u001b[39m\u001b[39m}\u001b[39;00m\u001b[39m'\u001b[39m)\n",
      "File \u001b[0;32m~/data/miniconda3/envs/torch/lib/python3.10/site-packages/torch/optim/optimizer.py:140\u001b[0m, in \u001b[0;36mOptimizer._hook_for_profile.<locals>.profile_hook_step.<locals>.wrapper\u001b[0;34m(*args, **kwargs)\u001b[0m\n\u001b[1;32m    138\u001b[0m profile_name \u001b[39m=\u001b[39m \u001b[39m\"\u001b[39m\u001b[39mOptimizer.step#\u001b[39m\u001b[39m{}\u001b[39;00m\u001b[39m.step\u001b[39m\u001b[39m\"\u001b[39m\u001b[39m.\u001b[39mformat(obj\u001b[39m.\u001b[39m\u001b[39m__class__\u001b[39m\u001b[39m.\u001b[39m\u001b[39m__name__\u001b[39m)\n\u001b[1;32m    139\u001b[0m \u001b[39mwith\u001b[39;00m torch\u001b[39m.\u001b[39mautograd\u001b[39m.\u001b[39mprofiler\u001b[39m.\u001b[39mrecord_function(profile_name):\n\u001b[0;32m--> 140\u001b[0m     out \u001b[39m=\u001b[39m func(\u001b[39m*\u001b[39;49margs, \u001b[39m*\u001b[39;49m\u001b[39m*\u001b[39;49mkwargs)\n\u001b[1;32m    141\u001b[0m     obj\u001b[39m.\u001b[39m_optimizer_step_code()\n\u001b[1;32m    142\u001b[0m     \u001b[39mreturn\u001b[39;00m out\n",
      "File \u001b[0;32m~/data/miniconda3/envs/torch/lib/python3.10/site-packages/torch/optim/optimizer.py:23\u001b[0m, in \u001b[0;36m_use_grad_for_differentiable.<locals>._use_grad\u001b[0;34m(self, *args, **kwargs)\u001b[0m\n\u001b[1;32m     21\u001b[0m \u001b[39mtry\u001b[39;00m:\n\u001b[1;32m     22\u001b[0m     torch\u001b[39m.\u001b[39mset_grad_enabled(\u001b[39mself\u001b[39m\u001b[39m.\u001b[39mdefaults[\u001b[39m'\u001b[39m\u001b[39mdifferentiable\u001b[39m\u001b[39m'\u001b[39m])\n\u001b[0;32m---> 23\u001b[0m     ret \u001b[39m=\u001b[39m func(\u001b[39mself\u001b[39;49m, \u001b[39m*\u001b[39;49margs, \u001b[39m*\u001b[39;49m\u001b[39m*\u001b[39;49mkwargs)\n\u001b[1;32m     24\u001b[0m \u001b[39mfinally\u001b[39;00m:\n\u001b[1;32m     25\u001b[0m     torch\u001b[39m.\u001b[39mset_grad_enabled(prev_grad)\n",
      "File \u001b[0;32m~/data/miniconda3/envs/torch/lib/python3.10/site-packages/torch/optim/adam.py:234\u001b[0m, in \u001b[0;36mAdam.step\u001b[0;34m(self, closure, grad_scaler)\u001b[0m\n\u001b[1;32m    231\u001b[0m                 \u001b[39mraise\u001b[39;00m \u001b[39mRuntimeError\u001b[39;00m(\u001b[39m'\u001b[39m\u001b[39m`requires_grad` is not supported for `step` in differentiable mode\u001b[39m\u001b[39m'\u001b[39m)\n\u001b[1;32m    232\u001b[0m             state_steps\u001b[39m.\u001b[39mappend(state[\u001b[39m'\u001b[39m\u001b[39mstep\u001b[39m\u001b[39m'\u001b[39m])\n\u001b[0;32m--> 234\u001b[0m     adam(params_with_grad,\n\u001b[1;32m    235\u001b[0m          grads,\n\u001b[1;32m    236\u001b[0m          exp_avgs,\n\u001b[1;32m    237\u001b[0m          exp_avg_sqs,\n\u001b[1;32m    238\u001b[0m          max_exp_avg_sqs,\n\u001b[1;32m    239\u001b[0m          state_steps,\n\u001b[1;32m    240\u001b[0m          amsgrad\u001b[39m=\u001b[39;49mgroup[\u001b[39m'\u001b[39;49m\u001b[39mamsgrad\u001b[39;49m\u001b[39m'\u001b[39;49m],\n\u001b[1;32m    241\u001b[0m          beta1\u001b[39m=\u001b[39;49mbeta1,\n\u001b[1;32m    242\u001b[0m          beta2\u001b[39m=\u001b[39;49mbeta2,\n\u001b[1;32m    243\u001b[0m          lr\u001b[39m=\u001b[39;49mgroup[\u001b[39m'\u001b[39;49m\u001b[39mlr\u001b[39;49m\u001b[39m'\u001b[39;49m],\n\u001b[1;32m    244\u001b[0m          weight_decay\u001b[39m=\u001b[39;49mgroup[\u001b[39m'\u001b[39;49m\u001b[39mweight_decay\u001b[39;49m\u001b[39m'\u001b[39;49m],\n\u001b[1;32m    245\u001b[0m          eps\u001b[39m=\u001b[39;49mgroup[\u001b[39m'\u001b[39;49m\u001b[39meps\u001b[39;49m\u001b[39m'\u001b[39;49m],\n\u001b[1;32m    246\u001b[0m          maximize\u001b[39m=\u001b[39;49mgroup[\u001b[39m'\u001b[39;49m\u001b[39mmaximize\u001b[39;49m\u001b[39m'\u001b[39;49m],\n\u001b[1;32m    247\u001b[0m          foreach\u001b[39m=\u001b[39;49mgroup[\u001b[39m'\u001b[39;49m\u001b[39mforeach\u001b[39;49m\u001b[39m'\u001b[39;49m],\n\u001b[1;32m    248\u001b[0m          capturable\u001b[39m=\u001b[39;49mgroup[\u001b[39m'\u001b[39;49m\u001b[39mcapturable\u001b[39;49m\u001b[39m'\u001b[39;49m],\n\u001b[1;32m    249\u001b[0m          differentiable\u001b[39m=\u001b[39;49mgroup[\u001b[39m'\u001b[39;49m\u001b[39mdifferentiable\u001b[39;49m\u001b[39m'\u001b[39;49m],\n\u001b[1;32m    250\u001b[0m          fused\u001b[39m=\u001b[39;49mgroup[\u001b[39m'\u001b[39;49m\u001b[39mfused\u001b[39;49m\u001b[39m'\u001b[39;49m],\n\u001b[1;32m    251\u001b[0m          grad_scale\u001b[39m=\u001b[39;49mgrad_scale,\n\u001b[1;32m    252\u001b[0m          found_inf\u001b[39m=\u001b[39;49mfound_inf)\n\u001b[1;32m    254\u001b[0m \u001b[39mreturn\u001b[39;00m loss\n",
      "File \u001b[0;32m~/data/miniconda3/envs/torch/lib/python3.10/site-packages/torch/optim/adam.py:300\u001b[0m, in \u001b[0;36madam\u001b[0;34m(params, grads, exp_avgs, exp_avg_sqs, max_exp_avg_sqs, state_steps, foreach, capturable, differentiable, fused, grad_scale, found_inf, amsgrad, beta1, beta2, lr, weight_decay, eps, maximize)\u001b[0m\n\u001b[1;32m    297\u001b[0m \u001b[39melse\u001b[39;00m:\n\u001b[1;32m    298\u001b[0m     func \u001b[39m=\u001b[39m _single_tensor_adam\n\u001b[0;32m--> 300\u001b[0m func(params,\n\u001b[1;32m    301\u001b[0m      grads,\n\u001b[1;32m    302\u001b[0m      exp_avgs,\n\u001b[1;32m    303\u001b[0m      exp_avg_sqs,\n\u001b[1;32m    304\u001b[0m      max_exp_avg_sqs,\n\u001b[1;32m    305\u001b[0m      state_steps,\n\u001b[1;32m    306\u001b[0m      amsgrad\u001b[39m=\u001b[39;49mamsgrad,\n\u001b[1;32m    307\u001b[0m      beta1\u001b[39m=\u001b[39;49mbeta1,\n\u001b[1;32m    308\u001b[0m      beta2\u001b[39m=\u001b[39;49mbeta2,\n\u001b[1;32m    309\u001b[0m      lr\u001b[39m=\u001b[39;49mlr,\n\u001b[1;32m    310\u001b[0m      weight_decay\u001b[39m=\u001b[39;49mweight_decay,\n\u001b[1;32m    311\u001b[0m      eps\u001b[39m=\u001b[39;49meps,\n\u001b[1;32m    312\u001b[0m      maximize\u001b[39m=\u001b[39;49mmaximize,\n\u001b[1;32m    313\u001b[0m      capturable\u001b[39m=\u001b[39;49mcapturable,\n\u001b[1;32m    314\u001b[0m      differentiable\u001b[39m=\u001b[39;49mdifferentiable,\n\u001b[1;32m    315\u001b[0m      grad_scale\u001b[39m=\u001b[39;49mgrad_scale,\n\u001b[1;32m    316\u001b[0m      found_inf\u001b[39m=\u001b[39;49mfound_inf)\n",
      "File \u001b[0;32m~/data/miniconda3/envs/torch/lib/python3.10/site-packages/torch/optim/adam.py:410\u001b[0m, in \u001b[0;36m_single_tensor_adam\u001b[0;34m(params, grads, exp_avgs, exp_avg_sqs, max_exp_avg_sqs, state_steps, grad_scale, found_inf, amsgrad, beta1, beta2, lr, weight_decay, eps, maximize, capturable, differentiable)\u001b[0m\n\u001b[1;32m    408\u001b[0m     denom \u001b[39m=\u001b[39m (max_exp_avg_sqs[i]\u001b[39m.\u001b[39msqrt() \u001b[39m/\u001b[39m bias_correction2_sqrt)\u001b[39m.\u001b[39madd_(eps)\n\u001b[1;32m    409\u001b[0m \u001b[39melse\u001b[39;00m:\n\u001b[0;32m--> 410\u001b[0m     denom \u001b[39m=\u001b[39m (exp_avg_sq\u001b[39m.\u001b[39;49msqrt() \u001b[39m/\u001b[39;49m bias_correction2_sqrt)\u001b[39m.\u001b[39;49madd_(eps)\n\u001b[1;32m    412\u001b[0m param\u001b[39m.\u001b[39maddcdiv_(exp_avg, denom, value\u001b[39m=\u001b[39m\u001b[39m-\u001b[39mstep_size)\n",
      "\u001b[0;31mKeyboardInterrupt\u001b[0m: "
     ]
    }
   ],
   "source": [
    "# train the model\n",
    "epochs = 80\n",
    "train_losses = []\n",
    "val_losses = []\n",
    "for epoch in range(epochs):\n",
    "    # train for one epoch\n",
    "    print('EPOCH %d' % (epoch + 1))\n",
    "\n",
    "    '''train_loss = train_epoch(\n",
    "        encoder=encoder, \n",
    "        decoder=decoder, \n",
    "        device=device, \n",
    "        dataloader=train_dataloader, \n",
    "        loss_fn=loss_fn, \n",
    "        optimizer=optimizer)\n",
    "    print(f'TRAIN - EPOCH {epoch+1} - loss: {train_loss}')'''\n",
    "\n",
    "    train_loss = train_epoch2(\n",
    "        autoencoder=autoencoder, \n",
    "        device=device, \n",
    "        dataloader=train_dataloader, \n",
    "        optimizer=optimizer)\n",
    "    print(f'TRAIN - EPOCH {epoch+1} - loss: {train_loss}')\n",
    "\n",
    "    train_losses.append(train_loss)\n",
    "\n",
    "    # evaluate the model\n",
    "    val_loss = val_epoch2(\n",
    "        autoencoder=autoencoder, \n",
    "        device=device, \n",
    "        dataloader=val_dataloader)\n",
    "    # Print Validationloss\n",
    "    print(f'VALIDATION - EPOCH {epoch+1} - loss: {val_loss}\\n')\n",
    "\n",
    "    val_losses.append(val_loss)\n",
    "\n",
    "    # schedule the learning rate\n",
    "    lr_scheduler.step(val_loss)\n",
    "\n",
    "    if optimizer.param_groups[0]['lr'] < 1e-8:\n",
    "        break"
   ]
  },
  {
   "attachments": {},
   "cell_type": "markdown",
   "metadata": {},
   "source": [
    "## Save model"
   ]
  },
  {
   "cell_type": "code",
   "execution_count": 19,
   "metadata": {},
   "outputs": [],
   "source": [
    "model_name = \"_2ep64batch_gwt\"\n",
    "torch.save(encoder, 'models/encoder' + model_name + '.pkl')\n",
    "torch.save(decoder, 'models/decoder' + model_name + '.pkl')\n",
    "torch.save(autoencoder, 'models/autoencoder' + model_name + '.pkl')\n",
    "\n",
    "torch.save(autoencoder.state_dict(), 'models/autoenc_sd' + model_name + '.pkl')"
   ]
  },
  {
   "attachments": {},
   "cell_type": "markdown",
   "metadata": {},
   "source": [
    "# Model search\n",
    "In this section we start exploring different models to see if we can perform better.\n",
    "Below a table summaryzing the models is shown. "
   ]
  },
  {
   "attachments": {},
   "cell_type": "markdown",
   "metadata": {},
   "source": [
    "| Model name | Description | Result |\n",
    "|------------| ------------| ------- |\n",
    "|  Encoder1  | Added a `NNConv` layer with `in_feat=7`, `out_feat=64` and added `BatchNorm1D` in the mlp | with `Decoder1` it's a shit, loss=0.79 after 3 epochs, too much parameters|\n",
    "|  Decoder1  | Added 2 `EdgeConv` in node reconstruction path with `out_feat=64,32` respectively ||\n",
    "|  Encoder2  | `NNConv` out_feat=256, *i.e.* 32->256 and thus added EdgeConv(256, 128), inverted channels of mlp, added `BatchNorm1D` in the mlp| with `Decoder1` it's a shit, loss=0.60 after 4 epochs but tsne really bad|\n",
    "|  Encoder3  | We have 2 `NNConv` layers with params (7, 128, ch=[32, 64, 128]) and (128, 256, ch=[64, 128, 256]) respectively, added `BatchNorm1D` in the mlp, added EdgeConv(512, 128)||\n",
    "\n"
   ]
  },
  {
   "cell_type": "code",
   "execution_count": null,
   "metadata": {},
   "outputs": [],
   "source": []
  }
 ],
 "metadata": {
  "kernelspec": {
   "display_name": "torch",
   "language": "python",
   "name": "python3"
  },
  "language_info": {
   "codemirror_mode": {
    "name": "ipython",
    "version": 3
   },
   "file_extension": ".py",
   "mimetype": "text/x-python",
   "name": "python",
   "nbconvert_exporter": "python",
   "pygments_lexer": "ipython3",
   "version": "3.10.9"
  },
  "orig_nbformat": 4,
  "vscode": {
   "interpreter": {
    "hash": "2314458721ceb093a16fc62a007e4288d5fdb68183e3d86ed8ecd92512e98f9c"
   }
  }
 },
 "nbformat": 4,
 "nbformat_minor": 2
}
